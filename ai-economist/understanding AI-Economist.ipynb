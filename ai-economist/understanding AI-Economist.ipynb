{
 "cells": [
  {
   "cell_type": "markdown",
   "id": "3dc3abe0",
   "metadata": {},
   "source": [
    "# About this notebook\n",
    "The scope of this notebook is to have a better understanding of how AI-Economist environment works and how to interact with it."
   ]
  },
  {
   "cell_type": "markdown",
   "id": "6adfe224",
   "metadata": {},
   "source": [
    "## Utils and libraries"
   ]
  },
  {
   "cell_type": "code",
   "execution_count": 2,
   "id": "e3d16fff",
   "metadata": {},
   "outputs": [],
   "source": [
    "from ai_economist import foundation\n",
    "import os, sys\n",
    "import numpy as np\n",
    "\n",
    "# Same environment as economic_simulation_basia.ipynb\n",
    "\n",
    "env_config = {'env_config_dict' : {\n",
    "    \n",
    "    'scenario_name': 'layout_from_file/simple_wood_and_stone',\n",
    "    'components': [\n",
    "        ('Build', {'skill_dist': \"pareto\", 'payment_max_skill_multiplier': 3}),\n",
    "        ('ContinuousDoubleAuction', {'max_num_orders': 5}),\n",
    "        ('Gather', {}),\n",
    "    ],\n",
    "    'env_layout_file': 'quadrant_25x25_20each_30clump.txt',\n",
    "    'starting_agent_coin': 10,\n",
    "    'fixed_four_skill_and_loc': True,\n",
    "    'n_agents': 2,          \n",
    "    'world_size': [25, 25], \n",
    "    'episode_length': 1000, \n",
    "    'multi_action_mode_agents': False,\n",
    "    'multi_action_mode_planner': True,\n",
    "    'flatten_observations': False,\n",
    "    'flatten_masks': True,\n",
    "}}"
   ]
  },
  {
   "cell_type": "markdown",
   "id": "082dd992",
   "metadata": {},
   "source": [
    "Notes about how to use dictionaries:\n",
    "clear()\tRemoves all the elements from the dictionary  \n",
    "copy()\tReturns a copy of the dictionary  \n",
    "fromkeys()\tReturns a dictionary with the specified keys and value  \n",
    "get()\tReturns the value of the specified key  \n",
    "items()\tReturns a list containing a tuple for each key value pair  \n",
    "keys()\tReturns a list containing the dictionary's keys  \n",
    "pop()\tRemoves the element with the specified key  \n",
    "popitem()\tRemoves the last inserted key-value pair  \n",
    "setdefault()\tReturns the value of the specified key. If the key does not exist: insert the key, with the specified value   \n",
    "update()\tUpdates the dictionary with the specified key-value pairs  \n",
    "values()\tReturns a list of all the values in the dictionary  "
   ]
  },
  {
   "cell_type": "markdown",
   "id": "1f55d148",
   "metadata": {},
   "source": [
    "# 1. Environment wrapping with 'tutorials.rllib.env_wrapper'"
   ]
  },
  {
   "cell_type": "code",
   "execution_count": 3,
   "id": "2d4cf3e1",
   "metadata": {},
   "outputs": [],
   "source": [
    "from tutorials.rllib.env_wrapper import RLlibEnvWrapper\n",
    "wrapped_env = RLlibEnvWrapper(env_config)"
   ]
  },
  {
   "cell_type": "code",
   "execution_count": 4,
   "id": "66f5a1a6",
   "metadata": {},
   "outputs": [
    {
     "data": {
      "text/plain": [
       "2"
      ]
     },
     "execution_count": 4,
     "metadata": {},
     "output_type": "execute_result"
    }
   ],
   "source": [
    "wrapped_env.n_agents"
   ]
  },
  {
   "cell_type": "code",
   "execution_count": 5,
   "id": "7f5aead6",
   "metadata": {},
   "outputs": [
    {
     "name": "stdout",
     "output_type": "stream",
     "text": [
      "Type of obs: <class 'dict'>, Type of rew: <class 'dict'>, Type of done: <class 'dict'>\n"
     ]
    }
   ],
   "source": [
    "wrapped_env.reset()\n",
    "obs,rew,done,_ = wrapped_env.step({\n",
    "'0':1,\n",
    "'1':1\n",
    "})\n",
    "print(f\"Type of obs: {type(obs)}, Type of rew: {type(rew)}, Type of done: {type(done)}\")"
   ]
  },
  {
   "cell_type": "code",
   "execution_count": 6,
   "id": "87052351",
   "metadata": {},
   "outputs": [
    {
     "data": {
      "text/plain": [
       "numpy.ndarray"
      ]
     },
     "execution_count": 6,
     "metadata": {},
     "output_type": "execute_result"
    }
   ],
   "source": [
    "# print(obs.get('0'))\n",
    "type(obs['0'].get('world-map'))"
   ]
  },
  {
   "cell_type": "markdown",
   "id": "e572f751",
   "metadata": {},
   "source": [
    "# ⚠\n",
    "obs, rew, done are numpy datatype formatted"
   ]
  },
  {
   "cell_type": "markdown",
   "id": "7fc1988c",
   "metadata": {},
   "source": [
    "# 2. Environment wrapping with 'env_wrapper.py'\n",
    "Basically it's 'tutorials.rllib.env_wrapper' without RLLib dependencies"
   ]
  },
  {
   "cell_type": "code",
   "execution_count": 7,
   "id": "5aa4463d",
   "metadata": {},
   "outputs": [],
   "source": [
    "from env_wrapped_tmp import EnvWrapper\n",
    "env_wrapped_tmp = EnvWrapper(env_config)"
   ]
  },
  {
   "cell_type": "code",
   "execution_count": 8,
   "id": "9cdc1654",
   "metadata": {},
   "outputs": [
    {
     "name": "stdout",
     "output_type": "stream",
     "text": [
      "Type of obs: <class 'dict'>, Type of rew: <class 'dict'>, Type of done: <class 'dict'>\n"
     ]
    }
   ],
   "source": [
    "env_wrapped_tmp.reset()\n",
    "obs,rew,done,_ = env_wrapped_tmp.step({\n",
    "'0':1,\n",
    "'1':1\n",
    "})\n",
    "print(f\"Type of obs: {type(obs)}, Type of rew: {type(rew)}, Type of done: {type(done)}\")"
   ]
  },
  {
   "cell_type": "code",
   "execution_count": 9,
   "id": "13a2d5d5",
   "metadata": {},
   "outputs": [
    {
     "data": {
      "text/plain": [
       "2"
      ]
     },
     "execution_count": 9,
     "metadata": {},
     "output_type": "execute_result"
    }
   ],
   "source": [
    "env_wrapped_tmp.n_agents"
   ]
  },
  {
   "cell_type": "code",
   "execution_count": 10,
   "id": "684fa0d3",
   "metadata": {},
   "outputs": [
    {
     "data": {
      "text/plain": [
       "numpy.ndarray"
      ]
     },
     "execution_count": 10,
     "metadata": {},
     "output_type": "execute_result"
    }
   ],
   "source": [
    "type(obs['0'].get('world-map'))"
   ]
  },
  {
   "cell_type": "markdown",
   "id": "b9cc8966",
   "metadata": {},
   "source": [
    "# 3. PPO Implementation"
   ]
  },
  {
   "cell_type": "code",
   "execution_count": null,
   "id": "2f329f80",
   "metadata": {},
   "outputs": [],
   "source": []
  }
 ],
 "metadata": {
  "kernelspec": {
   "display_name": "Python 3 (ipykernel)",
   "language": "python",
   "name": "python3"
  },
  "language_info": {
   "codemirror_mode": {
    "name": "ipython",
    "version": 3
   },
   "file_extension": ".py",
   "mimetype": "text/x-python",
   "name": "python",
   "nbconvert_exporter": "python",
   "pygments_lexer": "ipython3",
   "version": "3.7.13"
  }
 },
 "nbformat": 4,
 "nbformat_minor": 5
}
