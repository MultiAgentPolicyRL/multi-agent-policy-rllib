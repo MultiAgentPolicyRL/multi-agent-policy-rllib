{
 "cells": [
  {
   "cell_type": "markdown",
   "metadata": {},
   "source": [
    "#### Importing libraries"
   ]
  },
  {
   "cell_type": "code",
   "execution_count": 1,
   "metadata": {},
   "outputs": [
    {
     "name": "stdout",
     "output_type": "stream",
     "text": [
      "Inside covid19_components.py: 1 GPUs are available.\n",
      "Warning: The 'WarpDrive' package is not found and cannot be used! If you wish to use WarpDrive, please run 'pip install rl-warp-drive' first.\n",
      "Inside covid19_env.py: 1 GPUs are available.\n",
      "Warning: The 'WarpDrive' package is not found and cannot be used! If you wish to use WarpDrive, please run 'pip install rl-warp-drive' first.\n"
     ]
    },
    {
     "name": "stderr",
     "output_type": "stream",
     "text": [
      "/home/ettore/miniconda3/envs/aie-clear/lib/python3.7/site-packages/tensorflow_probability/python/__init__.py:57: DeprecationWarning: distutils Version classes are deprecated. Use packaging.version instead.\n",
      "  if (distutils.version.LooseVersion(tf.__version__) <\n"
     ]
    }
   ],
   "source": [
    "from keras_model import build_model\n",
    "from env_wrapper import RLlibEnvWrapper\n",
    "from tf_models import KerasConvLSTM, get_flat_obs_size\n",
    "import tensorflow as tf"
   ]
  },
  {
   "cell_type": "markdown",
   "metadata": {},
   "source": [
    "#### Model and env config"
   ]
  },
  {
   "cell_type": "code",
   "execution_count": 2,
   "metadata": {},
   "outputs": [
    {
     "name": "stderr",
     "output_type": "stream",
     "text": [
      "/home/ettore/miniconda3/envs/aie-clear/lib/python3.7/site-packages/ipykernel-5.5.5-py3.7.egg/ipykernel/ipkernel.py:283: DeprecationWarning: `should_run_async` will not call `transform_cell` automatically in the future. Please pass the result to `transformed_cell` argument and any exception that happen during thetransform in `preprocessing_exc_tuple` in IPython 7.17 and above.\n",
      "  and should_run_async(code)\n"
     ]
    }
   ],
   "source": [
    "model_config = {\n",
    "    'custom_model': \"keras_conv_lstm\",\n",
    "    'custom_options': {\n",
    "        'fc_dim': 128,\n",
    "        'idx_emb_dim': 4,\n",
    "        'input_emb_vocab': 100,\n",
    "        'lstm_cell_size': 128,\n",
    "        'num_conv': 2,\n",
    "        'num_fc': 2,\n",
    "    },\n",
    "    'max_seq_len': 25,\n",
    "\n",
    "}\n",
    "\n",
    "env_config = {\n",
    "    'env_config_dict': {\n",
    "        'scenario_name': 'layout_from_file/simple_wood_and_stone',\n",
    "        'components': [\n",
    "            ('Build', {'skill_dist': \"pareto\",\n",
    "             'payment_max_skill_multiplier': 3}),\n",
    "            ('ContinuousDoubleAuction', {'max_num_orders': 5}),\n",
    "            ('Gather', {}),\n",
    "        ],\n",
    "        'env_layout_file': 'quadrant_25x25_20each_30clump.txt',\n",
    "        'starting_agent_coin': 10,\n",
    "        'fixed_four_skill_and_loc': True,\n",
    "        'n_agents': 2,          # Number of non-planner agents (must be > 1)\n",
    "        'world_size': [25, 25],  # [Height, Width] of the env world\n",
    "        'episode_length': 1000,  # Number of timesteps per episode\n",
    "        'multi_action_mode_agents': False,\n",
    "        'multi_action_mode_planner': True,\n",
    "        'flatten_observations': False,\n",
    "        'flatten_masks': True,\n",
    "    }\n",
    "}\n"
   ]
  },
  {
   "cell_type": "markdown",
   "metadata": {},
   "source": [
    "#### Building model and env"
   ]
  },
  {
   "cell_type": "code",
   "execution_count": 3,
   "metadata": {},
   "outputs": [
    {
     "name": "stderr",
     "output_type": "stream",
     "text": [
      "/home/ettore/miniconda3/envs/aie-clear/lib/python3.7/site-packages/ai_economist-1.7.1-py3.7.egg/ai_economist/foundation/scenarios/simple_wood_and_stone/layout_from_file.py:212: DeprecationWarning: `np.int` is a deprecated alias for the builtin `int`. To silence this warning, use `int` by itself. Doing this will not modify any behavior and is safe. When replacing `np.int`, you may wish to use e.g. `np.int64` or `np.int32` to specify the precision. If you wish to review your current use, check the release note link for additional information.\n",
      "Deprecated in NumPy 1.20; for more details and guidance: https://numpy.org/devdocs/release/1.20.0-notes.html#deprecations\n",
      "  ).astype(np.int)\n"
     ]
    }
   ],
   "source": [
    "env = RLlibEnvWrapper(env_config)\n",
    "obs = env.reset()\n",
    "\n",
    "model = KerasConvLSTM(env.observation_space, env.action_space, 50, model_config, None)\n",
    "state = model.get_initial_state()\n",
    "\n",
    "# obs = {'obs': obs['0']}\n",
    "# rank_1_tensor = tf.constant([50])\n",
    "# flat_obs_space = get_flat_obs_size(env.observation_space)\n"
   ]
  },
  {
   "cell_type": "markdown",
   "metadata": {},
   "source": [
    "\n",
    "probabilmente devo prendere i dati da obs[x] e farli diventare un tensore ->\n",
    "dizionario come dati, ma composto di tensori, quindi in \n",
    "`obs`: obs... -> obs... e' un dizionario con chiavi i nomi dei dati e contenuto un tensore.\n",
    "\n",
    "output, new_state = model.forward(dati, state, rank_1_tensor)\n",
    "\n",
    "Call the model with the given input tensors and state.\n",
    "\n",
    "Any complex observations (dicts, tuples, etc.) will be unpacked by\n",
    "__call__ before being passed to forward(). To access the flattened\n",
    "observation tensor, refer to input_dict[\"obs_flat\"].\n",
    "\n",
    "This method can be called any number of times. In eager execution,\n",
    "each call to forward() will eagerly evaluate the model. In symbolic\n",
    "execution, each call to forward creates a computation graph that\n",
    "operates over the variables of this model (i.e., shares weights).\n",
    "\n",
    "Custom models should override this instead of __call__.\n",
    "\n",
    "Arguments:\n",
    "    inputs (dict): observation tensor with shape [B, T, obs_size].\n",
    "    input_dict (dict): dictionary of input tensors, including \"obs\",\n",
    "        \"obs_flat\", \"prev_action\", \"prev_reward\", \"is_training\"\n",
    "        input_dict (dict): obs.\n",
    "    state (list): list of state tensors, each with shape [B, T, size].\n",
    "    seq_lens (Tensor): 1d tensor holding input sequence lengths.\n",
    "\n",
    "Returns:\n",
    "    (outputs, new_state): The model output tensor of shape\n",
    "        [B, T, num_outputs] and the list of new state tensors each with\n",
    "        shape [B, size].\n"
   ]
  },
  {
   "cell_type": "markdown",
   "metadata": {},
   "source": [
    "from /python3.7/site-packages/ray/rllib/models/tf/tf_modelv2.py\n",
    "\n",
    "> `input_dict` (dict): dictionary of input tensors, including `\"obs\", \"obs_flat\", \"prev_action\", \"prev_reward\", \"is_training\"`\n",
    "\n",
    "So we want to build this dictionary."
   ]
  },
  {
   "cell_type": "code",
   "execution_count": 20,
   "metadata": {},
   "outputs": [
    {
     "name": "stderr",
     "output_type": "stream",
     "text": [
      "/home/ettore/miniconda3/envs/aie-clear/lib/python3.7/site-packages/ipykernel-5.5.5-py3.7.egg/ipykernel/ipkernel.py:283: DeprecationWarning: `should_run_async` will not call `transform_cell` automatically in the future. Please pass the result to `transformed_cell` argument and any exception that happen during thetransform in `preprocessing_exc_tuple` in IPython 7.17 and above.\n",
      "  and should_run_async(code)\n"
     ]
    }
   ],
   "source": [
    "# obs\n",
    "def dict_to_tensor_dict(a_dict: dict):\n",
    "    tensor_dict = {}\n",
    "    for key, value in a_dict.items():\n",
    "        tensor_dict[key] = tf.convert_to_tensor(value)\n",
    "    \n",
    "    return tensor_dict\n",
    "    \n",
    "# prova:\n",
    "obs_tensor_dict = dict_to_tensor_dict(obs['0'])\n",
    "# \"obs\", \"obs_flat\", \"prev_action\", \"prev_reward\", \"is_training\"\n",
    "input_dict = {\n",
    "    'obs': obs_tensor_dict,\n",
    "    # 'obs_flat': ,\n",
    "    'prev_action': None, \n",
    "    'prev_reward': None, \n",
    "    'is_training': True\n",
    "}\n"
   ]
  },
  {
   "cell_type": "code",
   "execution_count": 21,
   "metadata": {},
   "outputs": [
    {
     "name": "stdout",
     "output_type": "stream",
     "text": [
      "Tensor(\"Const_115:0\", shape=(1,), dtype=float64)\n",
      "Tensor(\"Const_116:0\", shape=(1,), dtype=float64)\n",
      "Tensor(\"Const_119:0\", shape=(11,), dtype=float64)\n",
      "Tensor(\"Const_125:0\", shape=(11,), dtype=float64)\n",
      "Tensor(\"Const_120:0\", shape=(11,), dtype=float64)\n",
      "Tensor(\"Const_126:0\", shape=(11,), dtype=float64)\n",
      "Tensor(\"Const_117:0\", shape=(1,), dtype=float64)\n",
      "Tensor(\"Const_123:0\", shape=(1,), dtype=float64)\n",
      "Tensor(\"Const_121:0\", shape=(11,), dtype=float64)\n",
      "Tensor(\"Const_127:0\", shape=(11,), dtype=float64)\n",
      "Tensor(\"Const_122:0\", shape=(11,), dtype=float64)\n",
      "Tensor(\"Const_128:0\", shape=(11,), dtype=float64)\n",
      "Tensor(\"Const_118:0\", shape=(11,), dtype=float64)\n",
      "Tensor(\"Const_124:0\", shape=(11,), dtype=float64)\n",
      "Tensor(\"Const_129:0\", shape=(1,), dtype=float64)\n",
      "Tensor(\"Const_130:0\", shape=(50,), dtype=float32)\n",
      "Tensor(\"Const_114:0\", shape=(1,), dtype=float64)\n",
      "Tensor(\"Const_108:0\", shape=(2, 11, 11), dtype=int16)\n",
      "Tensor(\"Const_111:0\", shape=(1,), dtype=float64)\n",
      "Tensor(\"Const_112:0\", shape=(1,), dtype=float64)\n",
      "Tensor(\"Const_113:0\", shape=(1,), dtype=float64)\n",
      "Tensor(\"Const_110:0\", shape=(1,), dtype=float64)\n",
      "Tensor(\"Const_109:0\", shape=(1,), dtype=float64)\n",
      "Tensor(\"Const_107:0\", shape=(7, 11, 11), dtype=float32)\n"
     ]
    },
    {
     "ename": "ValueError",
     "evalue": "Input 0 of layer \"permute_1\" is incompatible with the layer: expected ndim=5, found ndim=4. Full shape received: (Dimension(1), Dimension(2), Dimension(11), Dimension(11))",
     "output_type": "error",
     "traceback": [
      "\u001b[0;31m---------------------------------------------------------------------------\u001b[0m",
      "\u001b[0;31mValueError\u001b[0m                                Traceback (most recent call last)",
      "\u001b[0;32m<ipython-input-21-5dccc5c2463b>\u001b[0m in \u001b[0;36m<module>\u001b[0;34m\u001b[0m\n\u001b[1;32m      1\u001b[0m \u001b[0mrank_1_tensor\u001b[0m \u001b[0;34m=\u001b[0m \u001b[0mtf\u001b[0m\u001b[0;34m.\u001b[0m\u001b[0mconstant\u001b[0m\u001b[0;34m(\u001b[0m\u001b[0;34m[\u001b[0m\u001b[0;36m50\u001b[0m\u001b[0;34m]\u001b[0m\u001b[0;34m)\u001b[0m\u001b[0;34m\u001b[0m\u001b[0;34m\u001b[0m\u001b[0m\n\u001b[0;32m----> 2\u001b[0;31m \u001b[0moutput\u001b[0m\u001b[0;34m,\u001b[0m \u001b[0mnew_state\u001b[0m \u001b[0;34m=\u001b[0m \u001b[0mmodel\u001b[0m\u001b[0;34m.\u001b[0m\u001b[0mforward\u001b[0m\u001b[0;34m(\u001b[0m\u001b[0minput_dict\u001b[0m\u001b[0;34m,\u001b[0m \u001b[0mstate\u001b[0m\u001b[0;34m,\u001b[0m \u001b[0mrank_1_tensor\u001b[0m\u001b[0;34m)\u001b[0m\u001b[0;34m\u001b[0m\u001b[0;34m\u001b[0m\u001b[0m\n\u001b[0m",
      "\u001b[0;32m~/MultiAgentPolicyRL/DT-multi-agent-policy-rllib/PPO/tf_models.py\u001b[0m in \u001b[0;36mforward\u001b[0;34m(self, input_dict, state, seq_lens)\u001b[0m\n\u001b[1;32m    353\u001b[0m             ],\n\u001b[1;32m    354\u001b[0m             \u001b[0mstate\u001b[0m\u001b[0;34m,\u001b[0m\u001b[0;34m\u001b[0m\u001b[0;34m\u001b[0m\u001b[0m\n\u001b[0;32m--> 355\u001b[0;31m             \u001b[0mseq_lens\u001b[0m\u001b[0;34m,\u001b[0m\u001b[0;34m\u001b[0m\u001b[0;34m\u001b[0m\u001b[0m\n\u001b[0m\u001b[1;32m    356\u001b[0m         )\n\u001b[1;32m    357\u001b[0m         \u001b[0;32mreturn\u001b[0m \u001b[0mtf\u001b[0m\u001b[0;34m.\u001b[0m\u001b[0mreshape\u001b[0m\u001b[0;34m(\u001b[0m\u001b[0moutput\u001b[0m\u001b[0;34m,\u001b[0m \u001b[0;34m[\u001b[0m\u001b[0;34m-\u001b[0m\u001b[0;36m1\u001b[0m\u001b[0;34m,\u001b[0m \u001b[0mself\u001b[0m\u001b[0;34m.\u001b[0m\u001b[0mnum_outputs\u001b[0m\u001b[0;34m]\u001b[0m\u001b[0;34m)\u001b[0m\u001b[0;34m,\u001b[0m \u001b[0mnew_state\u001b[0m\u001b[0;34m\u001b[0m\u001b[0;34m\u001b[0m\u001b[0m\n",
      "\u001b[0;32m~/MultiAgentPolicyRL/DT-multi-agent-policy-rllib/PPO/tf_models.py\u001b[0m in \u001b[0;36m__forward_rnn\u001b[0;34m(self, inputs, state, seq_lens)\u001b[0m\n\u001b[1;32m    359\u001b[0m     \u001b[0;32mdef\u001b[0m \u001b[0m__forward_rnn\u001b[0m\u001b[0;34m(\u001b[0m\u001b[0mself\u001b[0m\u001b[0;34m,\u001b[0m \u001b[0minputs\u001b[0m\u001b[0;34m,\u001b[0m \u001b[0mstate\u001b[0m\u001b[0;34m,\u001b[0m \u001b[0mseq_lens\u001b[0m\u001b[0;34m)\u001b[0m\u001b[0;34m:\u001b[0m\u001b[0;34m\u001b[0m\u001b[0;34m\u001b[0m\u001b[0m\n\u001b[1;32m    360\u001b[0m         \u001b[0;31m# print(inputs.get_shape(), state.get_shape(), seq_lens.get_shape())\u001b[0m\u001b[0;34m\u001b[0m\u001b[0;34m\u001b[0m\u001b[0;34m\u001b[0m\u001b[0m\n\u001b[0;32m--> 361\u001b[0;31m \u001b[0;34m\u001b[0m\u001b[0m\n\u001b[0m\u001b[1;32m    362\u001b[0m         model_out, self._value_out, h_p, c_p, h_v, c_v = self.rnn_model(\n\u001b[1;32m    363\u001b[0m             \u001b[0minputs\u001b[0m \u001b[0;34m+\u001b[0m \u001b[0;34m[\u001b[0m\u001b[0mseq_lens\u001b[0m\u001b[0;34m]\u001b[0m \u001b[0;34m+\u001b[0m \u001b[0mstate\u001b[0m\u001b[0;34m\u001b[0m\u001b[0;34m\u001b[0m\u001b[0m\n",
      "\u001b[0;32m~/miniconda3/envs/aie-clear/lib/python3.7/site-packages/keras/utils/traceback_utils.py\u001b[0m in \u001b[0;36merror_handler\u001b[0;34m(*args, **kwargs)\u001b[0m\n\u001b[1;32m     68\u001b[0m             \u001b[0;31m# To get the full stack trace, call:\u001b[0m\u001b[0;34m\u001b[0m\u001b[0;34m\u001b[0m\u001b[0;34m\u001b[0m\u001b[0m\n\u001b[1;32m     69\u001b[0m             \u001b[0;31m# `tf.debugging.disable_traceback_filtering()`\u001b[0m\u001b[0;34m\u001b[0m\u001b[0;34m\u001b[0m\u001b[0;34m\u001b[0m\u001b[0m\n\u001b[0;32m---> 70\u001b[0;31m             \u001b[0;32mraise\u001b[0m \u001b[0me\u001b[0m\u001b[0;34m.\u001b[0m\u001b[0mwith_traceback\u001b[0m\u001b[0;34m(\u001b[0m\u001b[0mfiltered_tb\u001b[0m\u001b[0;34m)\u001b[0m \u001b[0;32mfrom\u001b[0m \u001b[0;32mNone\u001b[0m\u001b[0;34m\u001b[0m\u001b[0;34m\u001b[0m\u001b[0m\n\u001b[0m\u001b[1;32m     71\u001b[0m         \u001b[0;32mfinally\u001b[0m\u001b[0;34m:\u001b[0m\u001b[0;34m\u001b[0m\u001b[0;34m\u001b[0m\u001b[0m\n\u001b[1;32m     72\u001b[0m             \u001b[0;32mdel\u001b[0m \u001b[0mfiltered_tb\u001b[0m\u001b[0;34m\u001b[0m\u001b[0;34m\u001b[0m\u001b[0m\n",
      "\u001b[0;32m~/miniconda3/envs/aie-clear/lib/python3.7/site-packages/keras/engine/input_spec.py\u001b[0m in \u001b[0;36massert_input_compatibility\u001b[0;34m(input_spec, inputs, layer_name)\u001b[0m\n\u001b[1;32m    231\u001b[0m             \u001b[0;32mif\u001b[0m \u001b[0mndim\u001b[0m \u001b[0;34m!=\u001b[0m \u001b[0mspec\u001b[0m\u001b[0;34m.\u001b[0m\u001b[0mndim\u001b[0m\u001b[0;34m:\u001b[0m\u001b[0;34m\u001b[0m\u001b[0;34m\u001b[0m\u001b[0m\n\u001b[1;32m    232\u001b[0m                 raise ValueError(\n\u001b[0;32m--> 233\u001b[0;31m                     \u001b[0;34mf'Input {input_index} of layer \"{layer_name}\" '\u001b[0m\u001b[0;34m\u001b[0m\u001b[0;34m\u001b[0m\u001b[0m\n\u001b[0m\u001b[1;32m    234\u001b[0m                     \u001b[0;34m\"is incompatible with the layer: \"\u001b[0m\u001b[0;34m\u001b[0m\u001b[0;34m\u001b[0m\u001b[0m\n\u001b[1;32m    235\u001b[0m                     \u001b[0;34mf\"expected ndim={spec.ndim}, found ndim={ndim}. \"\u001b[0m\u001b[0;34m\u001b[0m\u001b[0;34m\u001b[0m\u001b[0m\n",
      "\u001b[0;31mValueError\u001b[0m: Input 0 of layer \"permute_1\" is incompatible with the layer: expected ndim=5, found ndim=4. Full shape received: (Dimension(1), Dimension(2), Dimension(11), Dimension(11))"
     ]
    }
   ],
   "source": [
    "rank_1_tensor = tf.constant([50])\n",
    "output, new_state = model.forward(input_dict, state, rank_1_tensor)\n"
   ]
  },
  {
   "cell_type": "code",
   "execution_count": null,
   "metadata": {},
   "outputs": [],
   "source": []
  }
 ],
 "metadata": {
  "kernelspec": {
   "display_name": "Python 3.7.13 ('aie-clear')",
   "language": "python",
   "name": "python3"
  },
  "language_info": {
   "codemirror_mode": {
    "name": "ipython",
    "version": 3
   },
   "file_extension": ".py",
   "mimetype": "text/x-python",
   "name": "python",
   "nbconvert_exporter": "python",
   "pygments_lexer": "ipython3",
   "version": "3.7.13"
  },
  "orig_nbformat": 4,
  "vscode": {
   "interpreter": {
    "hash": "28c57dfa6d4da356a103f2f04e0d110efe0707b458e5304c9744f8ea0993356a"
   }
  }
 },
 "nbformat": 4,
 "nbformat_minor": 2
}
